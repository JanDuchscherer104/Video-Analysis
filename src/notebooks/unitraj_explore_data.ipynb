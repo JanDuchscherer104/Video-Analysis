{
 "cells": [
  {
   "cell_type": "code",
   "execution_count": 1,
   "id": "02313a25",
   "metadata": {},
   "outputs": [
    {
     "name": "stdout",
     "output_type": "stream",
     "text": [
      "Cannot import knn_cuda for MTR. Please check the cuda compilation.\n",
      "Cannot import attention_cuda for MTR. Please check the cuda compilation.\n",
      "Cannot import attention_cuda for MTR. Please check the cuda compilation.\n"
     ]
    },
    {
     "data": {
      "text/html": [
       "<pre style=\"white-space:pre;overflow-x:auto;line-height:normal;font-family:Menlo,'DejaVu Sans Mono',consolas,'Courier New',monospace\">Setting float32 matmul precision to <span style=\"color: #008000; text-decoration-color: #008000\">'medium'</span> for <span style=\"color: #808000; text-decoration-color: #808000\">precision</span>=<span style=\"color: #008000; text-decoration-color: #008000\">'32-true'</span>.\n",
       "</pre>\n"
      ],
      "text/plain": [
       "Setting float32 matmul precision to \u001b[32m'medium'\u001b[0m for \u001b[33mprecision\u001b[0m=\u001b[32m'32-true'\u001b[0m.\n"
      ]
     },
     "metadata": {},
     "output_type": "display_data"
    },
    {
     "data": {
      "text/html": [
       "<pre style=\"white-space:pre;overflow-x:auto;line-height:normal;font-family:Menlo,'DejaVu Sans Mono',consolas,'Courier New',monospace\"><span style=\"font-weight: bold\">[</span><span style=\"color: #008080; text-decoration-color: #008080; font-weight: bold\">ExperimentConfig</span>::<span style=\"color: #008080; text-decoration-color: #008080; font-weight: bold\">_set_seed</span><span style=\"font-weight: bold\">]</span>: Setting random seed to <span style=\"color: #008080; text-decoration-color: #008080; font-weight: bold\">42</span> <span style=\"font-weight: bold\">(</span>np, torch, cuda, random, pl<span style=\"font-weight: bold\">)</span>\n",
       "</pre>\n"
      ],
      "text/plain": [
       "\u001b[1m[\u001b[0m\u001b[1;36mExperimentConfig\u001b[0m::\u001b[1;36m_set_seed\u001b[0m\u001b[1m]\u001b[0m: Setting random seed to \u001b[1;36m42\u001b[0m \u001b[1m(\u001b[0mnp, torch, cuda, random, pl\u001b[1m)\u001b[0m\n"
      ]
     },
     "metadata": {},
     "output_type": "display_data"
    },
    {
     "name": "stderr",
     "output_type": "stream",
     "text": [
      "Seed set to 42\n"
     ]
    },
    {
     "data": {
      "text/html": [
       "<pre style=\"white-space:pre;overflow-x:auto;line-height:normal;font-family:Menlo,'DejaVu Sans Mono',consolas,'Courier New',monospace\"><span style=\"font-weight: bold\">[</span><span style=\"color: #008080; text-decoration-color: #008080; font-weight: bold\">ExperimentConfig</span>::<span style=\"color: #008080; text-decoration-color: #008080; font-weight: bold\">setup_target</span><span style=\"font-weight: bold\">]</span>: Instantiating lightning components<span style=\"color: #808000; text-decoration-color: #808000\">...</span>\n",
       "</pre>\n"
      ],
      "text/plain": [
       "\u001b[1m[\u001b[0m\u001b[1;36mExperimentConfig\u001b[0m::\u001b[1;36msetup_target\u001b[0m\u001b[1m]\u001b[0m: Instantiating lightning components\u001b[33m...\u001b[0m\n"
      ]
     },
     "metadata": {},
     "output_type": "display_data"
    },
    {
     "name": "stderr",
     "output_type": "stream",
     "text": [
      "/home/duchscherer/miniconda3/envs/unitraj/lib/python3.9/site-packages/torch/nn/modules/transformer.py:385: UserWarning: enable_nested_tensor is True, but self.use_nested_tensor is False because encoder_layer.self_attn.batch_first was not True(use batch_first for better inference performance)\n",
      "  warnings.warn(\n"
     ]
    },
    {
     "data": {
      "text/html": [
       "<pre style=\"white-space:pre;overflow-x:auto;line-height:normal;font-family:Menlo,'DejaVu Sans Mono',consolas,'Courier New',monospace\"><span style=\"font-weight: bold\">[</span><span style=\"color: #008080; text-decoration-color: #008080; font-weight: bold\">LitTrainerFactory</span>::<span style=\"color: #008080; text-decoration-color: #008080; font-weight: bold\">create_trainer</span><span style=\"font-weight: bold\">]</span>: Configuring logger<span style=\"color: #808000; text-decoration-color: #808000\">...</span>\n",
       "</pre>\n"
      ],
      "text/plain": [
       "\u001b[1m[\u001b[0m\u001b[1;36mLitTrainerFactory\u001b[0m::\u001b[1;36mcreate_trainer\u001b[0m\u001b[1m]\u001b[0m: Configuring logger\u001b[33m...\u001b[0m\n"
      ]
     },
     "metadata": {},
     "output_type": "display_data"
    },
    {
     "data": {
      "text/html": [
       "<pre style=\"white-space:pre;overflow-x:auto;line-height:normal;font-family:Menlo,'DejaVu Sans Mono',consolas,'Courier New',monospace\"><span style=\"font-weight: bold\">[</span><span style=\"color: #008080; text-decoration-color: #008080; font-weight: bold\">LitTrainerFactory</span>::<span style=\"color: #008080; text-decoration-color: #008080; font-weight: bold\">create_trainer</span><span style=\"font-weight: bold\">]</span>: Configuring callbacks<span style=\"color: #808000; text-decoration-color: #808000\">...</span>\n",
       "</pre>\n"
      ],
      "text/plain": [
       "\u001b[1m[\u001b[0m\u001b[1;36mLitTrainerFactory\u001b[0m::\u001b[1;36mcreate_trainer\u001b[0m\u001b[1m]\u001b[0m: Configuring callbacks\u001b[33m...\u001b[0m\n"
      ]
     },
     "metadata": {},
     "output_type": "display_data"
    },
    {
     "data": {
      "text/html": [
       "<pre style=\"white-space:pre;overflow-x:auto;line-height:normal;font-family:Menlo,'DejaVu Sans Mono',consolas,'Courier New',monospace\"><span style=\"font-weight: bold\">[</span><span style=\"color: #008080; text-decoration-color: #008080; font-weight: bold\">LitTrainerFactory</span>::<span style=\"color: #008080; text-decoration-color: #008080; font-weight: bold\">_configure_callbacks</span><span style=\"font-weight: bold\">]</span>: ModelCheckpoint configured: <span style=\"color: #808000; text-decoration-color: #808000\">monitor</span>=<span style=\"color: #008000; text-decoration-color: #008000\">'val/brier_fde'</span>, \n",
       "<span style=\"color: #808000; text-decoration-color: #808000\">dir</span>=<span style=\"color: #008000; text-decoration-color: #008000\">'/home/duchscherer/repos/Video-Analysis/.logs/checkpoints/default_exp'</span>, <span style=\"color: #808000; text-decoration-color: #808000\">filename</span>=<span style=\"color: #008000; text-decoration-color: #008000\">'{epoch:02d}-{val/brier_fde:.2f}'</span>\n",
       "</pre>\n"
      ],
      "text/plain": [
       "\u001b[1m[\u001b[0m\u001b[1;36mLitTrainerFactory\u001b[0m::\u001b[1;36m_configure_callbacks\u001b[0m\u001b[1m]\u001b[0m: ModelCheckpoint configured: \u001b[33mmonitor\u001b[0m=\u001b[32m'val/brier_fde'\u001b[0m, \n",
       "\u001b[33mdir\u001b[0m=\u001b[32m'/home/duchscherer/repos/Video-Analysis/.logs/checkpoints/default_exp'\u001b[0m, \u001b[33mfilename\u001b[0m=\u001b[32m'\u001b[0m\u001b[32m{\u001b[0m\u001b[32mepoch:02d\u001b[0m\u001b[32m}\u001b[0m\u001b[32m-\u001b[0m\u001b[32m{\u001b[0m\u001b[32mval/brier_fde:.2f\u001b[0m\u001b[32m}\u001b[0m\u001b[32m'\u001b[0m\n"
      ]
     },
     "metadata": {},
     "output_type": "display_data"
    },
    {
     "data": {
      "text/html": [
       "<pre style=\"white-space:pre;overflow-x:auto;line-height:normal;font-family:Menlo,'DejaVu Sans Mono',consolas,'Courier New',monospace\"><span style=\"font-weight: bold\">[</span><span style=\"color: #008080; text-decoration-color: #008080; font-weight: bold\">LitTrainerFactory</span>::<span style=\"color: #008080; text-decoration-color: #008080; font-weight: bold\">_configure_callbacks</span><span style=\"font-weight: bold\">]</span>: LearningRateMonitor configured: <span style=\"color: #808000; text-decoration-color: #808000\">interval</span>=<span style=\"color: #008000; text-decoration-color: #008000\">'epoch'</span>\n",
       "</pre>\n"
      ],
      "text/plain": [
       "\u001b[1m[\u001b[0m\u001b[1;36mLitTrainerFactory\u001b[0m::\u001b[1;36m_configure_callbacks\u001b[0m\u001b[1m]\u001b[0m: LearningRateMonitor configured: \u001b[33minterval\u001b[0m=\u001b[32m'epoch'\u001b[0m\n"
      ]
     },
     "metadata": {},
     "output_type": "display_data"
    },
    {
     "name": "stderr",
     "output_type": "stream",
     "text": [
      "Trainer will use only 1 of 2 GPUs because it is running inside an interactive / notebook environment. You may try to set `Trainer(devices=2)` but please note that multi-GPU inside interactive / notebook environments is considered experimental and unstable. Your mileage may vary.\n",
      "GPU available: True (cuda), used: True\n",
      "TPU available: False, using: 0 TPU cores\n",
      "HPU available: False, using: 0 HPUs\n"
     ]
    }
   ],
   "source": [
    "from unitraj import *\n",
    "from unitraj.utils.console import Console\n",
    "\n",
    "cfg = ExperimentConfig(\n",
    "    is_debug=False,\n",
    "    datamodule=LitDatamoduleConfig(\n",
    "        dataset_config=DatasetConfig(\n",
    "            # parser=DataParserConfig(\n",
    "            #     num_debug_samples=1024,\n",
    "            #     take_debug_samples_front=True\n",
    "            # ),\n",
    "        ),\n",
    "        batch_size=1,\n",
    "    ),\n",
    ")\n",
    "\n",
    "_, _, datamodule = cfg.setup_target()"
   ]
  },
  {
   "cell_type": "code",
   "execution_count": 2,
   "id": "bd37bb22",
   "metadata": {},
   "outputs": [
    {
     "data": {
      "text/html": [
       "<pre style=\"white-space:pre;overflow-x:auto;line-height:normal;font-family:Menlo,'DejaVu Sans Mono',consolas,'Courier New',monospace\"><span style=\"font-weight: bold\">[</span><span style=\"color: #008080; text-decoration-color: #008080; font-weight: bold\">DataParserConfig</span>::<span style=\"color: #008080; text-decoration-color: #008080; font-weight: bold\">setup_target</span>::<span style=\"color: #008080; text-decoration-color: #008080; font-weight: bold\">TRAIN</span><span style=\"font-weight: bold\">]</span>: Using <span style=\"color: #008080; text-decoration-color: #008080; font-weight: bold\">32</span>/<span style=\"color: #008080; text-decoration-color: #008080; font-weight: bold\">32</span> workers\n",
       "Rebuild dataset: <span style=\"color: #ff0000; text-decoration-color: #ff0000; font-style: italic\">False</span>\n",
       "\n",
       "</pre>\n"
      ],
      "text/plain": [
       "\u001b[1m[\u001b[0m\u001b[1;36mDataParserConfig\u001b[0m::\u001b[1;36msetup_target\u001b[0m::\u001b[1;36mTRAIN\u001b[0m\u001b[1m]\u001b[0m: Using \u001b[1;36m32\u001b[0m/\u001b[1;36m32\u001b[0m workers\n",
       "Rebuild dataset: \u001b[3;91mFalse\u001b[0m\n",
       "\n"
      ]
     },
     "metadata": {},
     "output_type": "display_data"
    },
    {
     "data": {
      "text/html": [
       "<pre style=\"white-space:pre;overflow-x:auto;line-height:normal;font-family:Menlo,'DejaVu Sans Mono',consolas,'Courier New',monospace\"><span style=\"font-weight: bold\">[</span><span style=\"color: #008080; text-decoration-color: #008080; font-weight: bold\">DataParser</span>::<span style=\"color: #008080; text-decoration-color: #008080; font-weight: bold\">load_data</span>::<span style=\"color: #008080; text-decoration-color: #008080; font-weight: bold\">TRAIN</span><span style=\"font-weight: bold\">]</span>: Metadata found for train, skipping rebuild.\n",
       "</pre>\n"
      ],
      "text/plain": [
       "\u001b[1m[\u001b[0m\u001b[1;36mDataParser\u001b[0m::\u001b[1;36mload_data\u001b[0m::\u001b[1;36mTRAIN\u001b[0m\u001b[1m]\u001b[0m: Metadata found for train, skipping rebuild.\n"
      ]
     },
     "metadata": {},
     "output_type": "display_data"
    },
    {
     "data": {
      "text/html": [
       "<pre style=\"white-space:pre;overflow-x:auto;line-height:normal;font-family:Menlo,'DejaVu Sans Mono',consolas,'Courier New',monospace\"><span style=\"font-weight: bold\">[</span><span style=\"color: #008080; text-decoration-color: #008080; font-weight: bold\">LitDatamodule</span>::<span style=\"color: #008080; text-decoration-color: #008080; font-weight: bold\">setup</span><span style=\"font-weight: bold\">]</span>: Setup dataset for stage: train\n",
       "</pre>\n"
      ],
      "text/plain": [
       "\u001b[1m[\u001b[0m\u001b[1;36mLitDatamodule\u001b[0m::\u001b[1;36msetup\u001b[0m\u001b[1m]\u001b[0m: Setup dataset for stage: train\n"
      ]
     },
     "metadata": {},
     "output_type": "display_data"
    }
   ],
   "source": [
    "datamodule.setup(\"fit\")"
   ]
  },
  {
   "cell_type": "code",
   "execution_count": 3,
   "id": "0e7cca94",
   "metadata": {},
   "outputs": [
    {
     "data": {
      "text/html": [
       "<pre style=\"white-space:pre;overflow-x:auto;line-height:normal;font-family:Menlo,'DejaVu Sans Mono',consolas,'Courier New',monospace\"><span style=\"font-weight: bold\">[</span><span style=\"color: #008080; text-decoration-color: #008080; font-weight: bold\">LitDatamodule</span>::<span style=\"color: #008080; text-decoration-color: #008080; font-weight: bold\">train_dataloader</span><span style=\"font-weight: bold\">]</span>: Creating training DataLoader: <span style=\"color: #808000; text-decoration-color: #808000\">batch_size</span>=<span style=\"color: #008080; text-decoration-color: #008080; font-weight: bold\">1</span>, <span style=\"color: #808000; text-decoration-color: #808000\">workers</span>=<span style=\"color: #008080; text-decoration-color: #008080; font-weight: bold\">32</span>, <span style=\"color: #808000; text-decoration-color: #808000\">shuffle</span>=<span style=\"color: #00ff00; text-decoration-color: #00ff00; font-style: italic\">True</span>\n",
       "</pre>\n"
      ],
      "text/plain": [
       "\u001b[1m[\u001b[0m\u001b[1;36mLitDatamodule\u001b[0m::\u001b[1;36mtrain_dataloader\u001b[0m\u001b[1m]\u001b[0m: Creating training DataLoader: \u001b[33mbatch_size\u001b[0m=\u001b[1;36m1\u001b[0m, \u001b[33mworkers\u001b[0m=\u001b[1;36m32\u001b[0m, \u001b[33mshuffle\u001b[0m=\u001b[3;92mTrue\u001b[0m\n"
      ]
     },
     "metadata": {},
     "output_type": "display_data"
    },
    {
     "name": "stdout",
     "output_type": "stream",
     "text": [
      "Batch is a dictionary with keys:\n",
      "  scenario_id: <class 'list'>\n",
      "  obj_trajs: <class 'torch.Tensor'> with shape torch.Size([1, 64, 21, 39])\n",
      "  obj_trajs_mask: <class 'torch.Tensor'> with shape torch.Size([1, 64, 21])\n",
      "  track_index_to_predict: <class 'torch.Tensor'> with shape torch.Size([1])\n",
      "  obj_trajs_pos: <class 'torch.Tensor'> with shape torch.Size([1, 64, 21, 3])\n",
      "  obj_trajs_last_pos: <class 'torch.Tensor'> with shape torch.Size([1, 64, 3])\n",
      "  center_objects_world: <class 'torch.Tensor'> with shape torch.Size([1, 10])\n",
      "  center_objects_id: <class 'list'>\n",
      "  center_objects_type: <class 'numpy.ndarray'> with shape (1,)\n",
      "  map_center: <class 'torch.Tensor'> with shape torch.Size([1, 3])\n",
      "  obj_trajs_future_state: <class 'torch.Tensor'> with shape torch.Size([1, 64, 60, 4])\n",
      "  obj_trajs_future_mask: <class 'torch.Tensor'> with shape torch.Size([1, 64, 60])\n",
      "  center_gt_trajs: <class 'torch.Tensor'> with shape torch.Size([1, 60, 4])\n",
      "  center_gt_trajs_mask: <class 'torch.Tensor'> with shape torch.Size([1, 60])\n",
      "  center_gt_final_valid_idx: <class 'torch.Tensor'> with shape torch.Size([1])\n",
      "  center_gt_trajs_src: <class 'torch.Tensor'> with shape torch.Size([1, 81, 10])\n",
      "  map_polylines: <class 'torch.Tensor'> with shape torch.Size([1, 256, 20, 29])\n",
      "  map_polylines_mask: <class 'torch.Tensor'> with shape torch.Size([1, 256, 20])\n",
      "  map_polylines_center: <class 'torch.Tensor'> with shape torch.Size([1, 256, 3])\n",
      "  dataset_name: <class 'list'>\n",
      "  kalman_difficulty: <class 'torch.Tensor'> with shape torch.Size([1, 3])\n",
      "  trajectory_type: <class 'torch.Tensor'> with shape torch.Size([1])\n"
     ]
    }
   ],
   "source": [
    "# Get a single batch (collated item) from the dataloader\n",
    "batch = next(iter(datamodule.train_dataloader()))[\"input_dict\"]\n",
    "\n",
    "# Print the keys and shapes if it's a dictionary\n",
    "if isinstance(batch, dict):\n",
    "    print(\"Batch is a dictionary with keys:\")\n",
    "    for key, value in batch.items():\n",
    "        if hasattr(value, 'shape'):\n",
    "            print(f\"  {key}: {type(value)} with shape {value.shape}\")\n",
    "        else:\n",
    "            print(f\"  {key}: {type(value)}\")\n",
    "elif isinstance(batch, (list, tuple)):\n",
    "    print(\"Batch is a list/tuple with items:\")\n",
    "    for i, item in enumerate(batch):\n",
    "        if hasattr(item, 'shape'):\n",
    "            print(f\"  Item {i}: {type(item)} with shape {item.shape}\")\n",
    "        else:\n",
    "            print(f\"  Item {i}: {type(item)}\")\n",
    "else:\n",
    "    print(f\"Batch is of type: {type(batch)}\")"
   ]
  },
  {
   "cell_type": "code",
   "execution_count": 4,
   "id": "bf3add92",
   "metadata": {},
   "outputs": [
    {
     "data": {
      "application/vnd.microsoft.datawrangler.viewer.v0+json": {
       "columns": [
        {
         "name": "group_name",
         "rawType": "object",
         "type": "string"
        },
        {
         "name": "h5_path",
         "rawType": "object",
         "type": "unknown"
        },
        {
         "name": "scenario_id",
         "rawType": "object",
         "type": "string"
        },
        {
         "name": "kalman_difficulty",
         "rawType": "object",
         "type": "unknown"
        },
        {
         "name": "num_agents",
         "rawType": "int64",
         "type": "integer"
        },
        {
         "name": "num_agents_interest",
         "rawType": "int64",
         "type": "integer"
        },
        {
         "name": "scenario_future_duration",
         "rawType": "int64",
         "type": "integer"
        },
        {
         "name": "num_map_polylines",
         "rawType": "int64",
         "type": "integer"
        },
        {
         "name": "track_index_to_predict",
         "rawType": "int64",
         "type": "integer"
        },
        {
         "name": "center_objects_type",
         "rawType": "int64",
         "type": "integer"
        },
        {
         "name": "dataset_name",
         "rawType": "object",
         "type": "string"
        },
        {
         "name": "trajectory_type",
         "rawType": "int64",
         "type": "integer"
        }
       ],
       "conversionMethod": "pd.DataFrame",
       "ref": "af614f56-e8f5-4aa2-b2b6-373353ffa623",
       "rows": [
        [
         "av2_scenarionet-0-0-0",
         "/work/share/traj-pred-data/av2_sn_processed/av2_scenarionet_worker_0.h5",
         "sd_av2_v2_1d2bc312-645b-411c-beb0-46b49e1890fb.pkl",
         "[[ 2.9746385  7.591374  -1.       ]\n [ 5.772799  13.581864  -1.       ]\n [ 1.9124925  3.6437414 -1.       ]\n [ 1.4780918  2.4063382 -1.       ]]",
         "15",
         "4",
         "60",
         "256",
         "0",
         "1",
         "av2",
         "1"
        ],
        [
         "av2_scenarionet-0-0-1",
         "/work/share/traj-pred-data/av2_sn_processed/av2_scenarionet_worker_0.h5",
         "sd_av2_v2_1d2bc312-645b-411c-beb0-46b49e1890fb.pkl",
         "[[ 2.9746385  7.591374  -1.       ]\n [ 5.772799  13.581864  -1.       ]\n [ 1.9124925  3.6437414 -1.       ]\n [ 1.4780918  2.4063382 -1.       ]]",
         "15",
         "4",
         "60",
         "256",
         "0",
         "1",
         "av2",
         "1"
        ],
        [
         "av2_scenarionet-0-0-2",
         "/work/share/traj-pred-data/av2_sn_processed/av2_scenarionet_worker_0.h5",
         "sd_av2_v2_1d2bc312-645b-411c-beb0-46b49e1890fb.pkl",
         "[[ 2.9746385  7.591374  -1.       ]\n [ 5.772799  13.581864  -1.       ]\n [ 1.9124925  3.6437414 -1.       ]\n [ 1.4780918  2.4063382 -1.       ]]",
         "15",
         "4",
         "60",
         "256",
         "0",
         "1",
         "av2",
         "0"
        ],
        [
         "av2_scenarionet-0-0-3",
         "/work/share/traj-pred-data/av2_sn_processed/av2_scenarionet_worker_0.h5",
         "sd_av2_v2_1d2bc312-645b-411c-beb0-46b49e1890fb.pkl",
         "[[ 2.9746385  7.591374  -1.       ]\n [ 5.772799  13.581864  -1.       ]\n [ 1.9124925  3.6437414 -1.       ]\n [ 1.4780918  2.4063382 -1.       ]]",
         "15",
         "4",
         "60",
         "256",
         "0",
         "1",
         "av2",
         "0"
        ],
        [
         "av2_scenarionet-0-2-0",
         "/work/share/traj-pred-data/av2_sn_processed/av2_scenarionet_worker_0.h5",
         "sd_av2_v2_0be2aa5c-c4ae-4f06-a643-db41aec55d89.pkl",
         "[[ 1.2986916  2.535061  -1.       ]\n [ 0.5374408  1.9165876 -1.       ]\n [ 1.9649168  4.7928514 -1.       ]\n [ 6.762705  -1.        -1.       ]]",
         "22",
         "4",
         "60",
         "256",
         "0",
         "1",
         "av2",
         "1"
        ]
       ],
       "shape": {
        "columns": 11,
        "rows": 5
       }
      },
      "text/html": [
       "<div>\n",
       "<style scoped>\n",
       "    .dataframe tbody tr th:only-of-type {\n",
       "        vertical-align: middle;\n",
       "    }\n",
       "\n",
       "    .dataframe tbody tr th {\n",
       "        vertical-align: top;\n",
       "    }\n",
       "\n",
       "    .dataframe thead th {\n",
       "        text-align: right;\n",
       "    }\n",
       "</style>\n",
       "<table border=\"1\" class=\"dataframe\">\n",
       "  <thead>\n",
       "    <tr style=\"text-align: right;\">\n",
       "      <th></th>\n",
       "      <th>h5_path</th>\n",
       "      <th>scenario_id</th>\n",
       "      <th>kalman_difficulty</th>\n",
       "      <th>num_agents</th>\n",
       "      <th>num_agents_interest</th>\n",
       "      <th>scenario_future_duration</th>\n",
       "      <th>num_map_polylines</th>\n",
       "      <th>track_index_to_predict</th>\n",
       "      <th>center_objects_type</th>\n",
       "      <th>dataset_name</th>\n",
       "      <th>trajectory_type</th>\n",
       "    </tr>\n",
       "    <tr>\n",
       "      <th>group_name</th>\n",
       "      <th></th>\n",
       "      <th></th>\n",
       "      <th></th>\n",
       "      <th></th>\n",
       "      <th></th>\n",
       "      <th></th>\n",
       "      <th></th>\n",
       "      <th></th>\n",
       "      <th></th>\n",
       "      <th></th>\n",
       "      <th></th>\n",
       "    </tr>\n",
       "  </thead>\n",
       "  <tbody>\n",
       "    <tr>\n",
       "      <th>av2_scenarionet-0-0-0</th>\n",
       "      <td>/work/share/traj-pred-data/av2_sn_processed/av...</td>\n",
       "      <td>sd_av2_v2_1d2bc312-645b-411c-beb0-46b49e1890fb...</td>\n",
       "      <td>[[2.9746385, 7.591374, -1.0], [5.772799, 13.58...</td>\n",
       "      <td>15</td>\n",
       "      <td>4</td>\n",
       "      <td>60</td>\n",
       "      <td>256</td>\n",
       "      <td>0</td>\n",
       "      <td>1</td>\n",
       "      <td>av2</td>\n",
       "      <td>1</td>\n",
       "    </tr>\n",
       "    <tr>\n",
       "      <th>av2_scenarionet-0-0-1</th>\n",
       "      <td>/work/share/traj-pred-data/av2_sn_processed/av...</td>\n",
       "      <td>sd_av2_v2_1d2bc312-645b-411c-beb0-46b49e1890fb...</td>\n",
       "      <td>[[2.9746385, 7.591374, -1.0], [5.772799, 13.58...</td>\n",
       "      <td>15</td>\n",
       "      <td>4</td>\n",
       "      <td>60</td>\n",
       "      <td>256</td>\n",
       "      <td>0</td>\n",
       "      <td>1</td>\n",
       "      <td>av2</td>\n",
       "      <td>1</td>\n",
       "    </tr>\n",
       "    <tr>\n",
       "      <th>av2_scenarionet-0-0-2</th>\n",
       "      <td>/work/share/traj-pred-data/av2_sn_processed/av...</td>\n",
       "      <td>sd_av2_v2_1d2bc312-645b-411c-beb0-46b49e1890fb...</td>\n",
       "      <td>[[2.9746385, 7.591374, -1.0], [5.772799, 13.58...</td>\n",
       "      <td>15</td>\n",
       "      <td>4</td>\n",
       "      <td>60</td>\n",
       "      <td>256</td>\n",
       "      <td>0</td>\n",
       "      <td>1</td>\n",
       "      <td>av2</td>\n",
       "      <td>0</td>\n",
       "    </tr>\n",
       "    <tr>\n",
       "      <th>av2_scenarionet-0-0-3</th>\n",
       "      <td>/work/share/traj-pred-data/av2_sn_processed/av...</td>\n",
       "      <td>sd_av2_v2_1d2bc312-645b-411c-beb0-46b49e1890fb...</td>\n",
       "      <td>[[2.9746385, 7.591374, -1.0], [5.772799, 13.58...</td>\n",
       "      <td>15</td>\n",
       "      <td>4</td>\n",
       "      <td>60</td>\n",
       "      <td>256</td>\n",
       "      <td>0</td>\n",
       "      <td>1</td>\n",
       "      <td>av2</td>\n",
       "      <td>0</td>\n",
       "    </tr>\n",
       "    <tr>\n",
       "      <th>av2_scenarionet-0-2-0</th>\n",
       "      <td>/work/share/traj-pred-data/av2_sn_processed/av...</td>\n",
       "      <td>sd_av2_v2_0be2aa5c-c4ae-4f06-a643-db41aec55d89...</td>\n",
       "      <td>[[1.2986916, 2.535061, -1.0], [0.5374408, 1.91...</td>\n",
       "      <td>22</td>\n",
       "      <td>4</td>\n",
       "      <td>60</td>\n",
       "      <td>256</td>\n",
       "      <td>0</td>\n",
       "      <td>1</td>\n",
       "      <td>av2</td>\n",
       "      <td>1</td>\n",
       "    </tr>\n",
       "  </tbody>\n",
       "</table>\n",
       "</div>"
      ],
      "text/plain": [
       "                                                                 h5_path  \\\n",
       "group_name                                                                 \n",
       "av2_scenarionet-0-0-0  /work/share/traj-pred-data/av2_sn_processed/av...   \n",
       "av2_scenarionet-0-0-1  /work/share/traj-pred-data/av2_sn_processed/av...   \n",
       "av2_scenarionet-0-0-2  /work/share/traj-pred-data/av2_sn_processed/av...   \n",
       "av2_scenarionet-0-0-3  /work/share/traj-pred-data/av2_sn_processed/av...   \n",
       "av2_scenarionet-0-2-0  /work/share/traj-pred-data/av2_sn_processed/av...   \n",
       "\n",
       "                                                             scenario_id  \\\n",
       "group_name                                                                 \n",
       "av2_scenarionet-0-0-0  sd_av2_v2_1d2bc312-645b-411c-beb0-46b49e1890fb...   \n",
       "av2_scenarionet-0-0-1  sd_av2_v2_1d2bc312-645b-411c-beb0-46b49e1890fb...   \n",
       "av2_scenarionet-0-0-2  sd_av2_v2_1d2bc312-645b-411c-beb0-46b49e1890fb...   \n",
       "av2_scenarionet-0-0-3  sd_av2_v2_1d2bc312-645b-411c-beb0-46b49e1890fb...   \n",
       "av2_scenarionet-0-2-0  sd_av2_v2_0be2aa5c-c4ae-4f06-a643-db41aec55d89...   \n",
       "\n",
       "                                                       kalman_difficulty  \\\n",
       "group_name                                                                 \n",
       "av2_scenarionet-0-0-0  [[2.9746385, 7.591374, -1.0], [5.772799, 13.58...   \n",
       "av2_scenarionet-0-0-1  [[2.9746385, 7.591374, -1.0], [5.772799, 13.58...   \n",
       "av2_scenarionet-0-0-2  [[2.9746385, 7.591374, -1.0], [5.772799, 13.58...   \n",
       "av2_scenarionet-0-0-3  [[2.9746385, 7.591374, -1.0], [5.772799, 13.58...   \n",
       "av2_scenarionet-0-2-0  [[1.2986916, 2.535061, -1.0], [0.5374408, 1.91...   \n",
       "\n",
       "                       num_agents  num_agents_interest  \\\n",
       "group_name                                               \n",
       "av2_scenarionet-0-0-0          15                    4   \n",
       "av2_scenarionet-0-0-1          15                    4   \n",
       "av2_scenarionet-0-0-2          15                    4   \n",
       "av2_scenarionet-0-0-3          15                    4   \n",
       "av2_scenarionet-0-2-0          22                    4   \n",
       "\n",
       "                       scenario_future_duration  num_map_polylines  \\\n",
       "group_name                                                           \n",
       "av2_scenarionet-0-0-0                        60                256   \n",
       "av2_scenarionet-0-0-1                        60                256   \n",
       "av2_scenarionet-0-0-2                        60                256   \n",
       "av2_scenarionet-0-0-3                        60                256   \n",
       "av2_scenarionet-0-2-0                        60                256   \n",
       "\n",
       "                       track_index_to_predict  center_objects_type  \\\n",
       "group_name                                                           \n",
       "av2_scenarionet-0-0-0                       0                    1   \n",
       "av2_scenarionet-0-0-1                       0                    1   \n",
       "av2_scenarionet-0-0-2                       0                    1   \n",
       "av2_scenarionet-0-0-3                       0                    1   \n",
       "av2_scenarionet-0-2-0                       0                    1   \n",
       "\n",
       "                      dataset_name  trajectory_type  \n",
       "group_name                                           \n",
       "av2_scenarionet-0-0-0          av2                1  \n",
       "av2_scenarionet-0-0-1          av2                1  \n",
       "av2_scenarionet-0-0-2          av2                0  \n",
       "av2_scenarionet-0-0-3          av2                0  \n",
       "av2_scenarionet-0-2-0          av2                1  "
      ]
     },
     "execution_count": 4,
     "metadata": {},
     "output_type": "execute_result"
    }
   ],
   "source": [
    "datamodule.train_dataset.data_samples.head()"
   ]
  },
  {
   "cell_type": "code",
   "execution_count": 5,
   "id": "29400d65",
   "metadata": {},
   "outputs": [
    {
     "name": "stdout",
     "output_type": "stream",
     "text": [
      "--- Shapes for DatasetItem (1d2bc312-645b-411c-beb0-46b49e1890fb) ---\n",
      "scenario_id: <class 'str'>\n",
      "obj_trajs: (64, 21, 39)\n",
      "obj_trajs_mask: (64, 21)\n",
      "track_index_to_predict: <class 'numpy.int64'>\n",
      "obj_trajs_pos: (64, 21, 3)\n",
      "obj_trajs_last_pos: (64, 3)\n",
      "center_objects_world: (10,)\n",
      "center_objects_id: <class 'str'>\n",
      "center_objects_type: <class 'numpy.int64'>\n",
      "map_center: (3,)\n",
      "obj_trajs_future_state: (64, 60, 4)\n",
      "obj_trajs_future_mask: (64, 60)\n",
      "center_gt_trajs: (60, 4)\n",
      "center_gt_trajs_mask: (60,)\n",
      "center_gt_final_valid_idx: <class 'float'>\n",
      "center_gt_trajs_src: (81, 10)\n",
      "map_polylines: (256, 20, 29)\n",
      "map_polylines_mask: (256, 20)\n",
      "map_polylines_center: (256, 3)\n",
      "dataset_name: <class 'str'>\n",
      "kalman_difficulty: (3,)\n",
      "trajectory_type: <class 'int'>\n",
      "-------------------------------------------------\n"
     ]
    }
   ],
   "source": [
    "datamodule.train_dataset[0].print_shapes()"
   ]
  },
  {
   "cell_type": "code",
   "execution_count": 7,
   "id": "3176790b",
   "metadata": {},
   "outputs": [
    {
     "data": {
      "text/plain": [
       "\"<DatasetItem '1d2bc312-645b-411c-beb0-46b49e1890fb' @ 'av2': Agents=15/64, Traj(P=21, F=60, D_past=39, D_future=4), Map(R=256, L=20, D_map=29), kd=(3,), traj_type=1>\""
      ]
     },
     "execution_count": 7,
     "metadata": {},
     "output_type": "execute_result"
    }
   ],
   "source": [
    "datamodule.train_dataset[0].summary()"
   ]
  },
  {
   "cell_type": "code",
   "execution_count": 8,
   "id": "6d2f7786",
   "metadata": {},
   "outputs": [
    {
     "data": {
      "image/png": "[encoded data removed]",
      "text/plain": [
       "<Figure size 640x480 with 1 Axes>"
      ]
     },
     "metadata": {},
     "output_type": "display_data"
    }
   ],
   "source": [
    "from matplotlib import pyplot as plt\n",
    "from unitraj.utils.visualization import check_loaded_data, plot_dataset_item\n",
    "\n",
    "check_loaded_data(datamodule.train_dataset[64])\n",
    "plt.show()"
   ]
  },
  {
   "cell_type": "code",
   "execution_count": 10,
   "id": "844e9cf0",
   "metadata": {},
   "outputs": [
    {
     "data": {
      "image/png": "[encoded data removed]",
      "text/plain": [
       "<Figure size 1000x400 with 1 Axes>"
      ]
     },
     "metadata": {},
     "output_type": "display_data"
    }
   ],
   "source": [
    "import numpy as np\n",
    "\n",
    "rnd_sample = datamodule.train_dataset[np.random.randint(0, len(datamodule.train_dataset))]\n",
    "plot_dataset_item(rnd_sample, include_agents_in_range=True, show_timestep_info=True)\n",
    "plt.show()"
   ]
  }
 ],
 "metadata": {
  "kernelspec": {
   "display_name": "unitraj",
   "language": "python",
   "name": "python3"
  },
  "language_info": {
   "codemirror_mode": {
    "name": "ipython",
    "version": 3
   },
   "file_extension": ".py",
   "mimetype": "text/x-python",
   "name": "python",
   "nbconvert_exporter": "python",
   "pygments_lexer": "ipython3",
   "version": "3.9.7"
  }
 },
 "nbformat": 4,
 "nbformat_minor": 5
}
